{
 "cells": [
  {
   "cell_type": "markdown",
   "metadata": {
    "id": "7-XBXf2za2zZ"
   },
   "source": [
    "![Arabistat Logo](Arabistat_logo.png)"
   ]
  },
  {
   "cell_type": "code",
   "execution_count": null,
   "metadata": {
    "id": "GxO3jxalGdCA"
   },
   "outputs": [],
   "source": [
    "# Classification Capstone\n",
    "\n",
    "* ### Go to The following link\n",
    "https://www.kaggle.com/c/tech-weekend-data-science-hackathon\n",
    "\n",
    "* ### Make Your Own notebook and work on Kaggle Platform\n",
    "\n",
    "* ### Make AI model to Predict **TARGET** :)\n",
    "\n"
   ]
  },
  {
   "cell_type": "code",
   "execution_count": 4,
   "metadata": {
    "colab": {
     "base_uri": "https://localhost:8080/"
    },
    "id": "RVIYj3aYa5FV",
    "outputId": "67dea8ed-6ce0-472e-a40f-d1f3ac07e56b"
   },
   "outputs": [],
   "source": [
    "import numpy as np\n",
    "import pandas as pd\n",
    "import matplotlib.pyplot as plt\n",
    "import seaborn as sns\n",
    "from sklearn.preprocessing import PolynomialFeatures,StandardScaler,OneHotEncoder\n",
    "from sklearn.model_selection import train_test_split,KFold,cross_val_score,StratifiedKFold,GridSearchCV,RandomizedSearchCV\n",
    "from sklearn.metrics import mean_squared_error, r2_score,mean_absolute_error,explained_variance_score,max_error,mean_absolute_percentage_error\n",
    "from sklearn.metrics import accuracy_score, confusion_matrix,  precision_score, recall_score, f1_score,classification_report,roc_auc_score,roc_curve,auc\n",
    "from sklearn.linear_model import LinearRegression,LogisticRegression,Ridge, Lasso, ElasticNet\n",
    "from sklearn.svm import SVC\n",
    "from sklearn.naive_bayes import GaussianNB\n",
    "from sklearn.ensemble import RandomForestClassifier,GradientBoostingClassifier,AdaBoostClassifier\n",
    "from sklearn.tree import DecisionTreeClassifier\n",
    "from sklearn.neighbors import KNeighborsClassifier\n",
    "# !pip install xgboost\n",
    "import xgboost as xgb\n",
    "from xgboost import XGBClassifier\n",
    "# from lightgbm import LGBMClassifier\n",
    "# !pip install catboost\n",
    "import catboost\n",
    "from catboost import CatBoostClassifier\n",
    "from sklearn.ensemble import StackingClassifier\n",
    "from sklearn.decomposition import PCA"
   ]
  },
  {
   "cell_type": "code",
   "execution_count": 3,
   "metadata": {
    "colab": {
     "base_uri": "https://localhost:8080/"
    },
    "id": "N--XM-mma5B3",
    "outputId": "1adebddb-5c04-4ba5-d593-c7ef5cb0f856"
   },
   "outputs": [],
   "source": [
    "# from google.colab import drive\n",
    "# # Navigate to the folder\n",
    "# from google.colab import drive\n",
    "# # Navigate to the folder\n",
    "# import os\n",
    "# drive.mount('/content/drive')\n",
    "# folder_path =\"/content/drive/My Drive/Colab Notebooks/\"\n",
    "# os.chdir(folder_path)"
   ]
  },
  {
   "cell_type": "code",
   "execution_count": 6,
   "metadata": {
    "colab": {
     "base_uri": "https://localhost:8080/",
     "height": 226
    },
    "id": "PGL3ffREa4_O",
    "outputId": "c1b2da32-db1e-40ac-f024-3419b1a4f613"
   },
   "outputs": [
    {
     "data": {
      "text/html": [
       "<div>\n",
       "<style scoped>\n",
       "    .dataframe tbody tr th:only-of-type {\n",
       "        vertical-align: middle;\n",
       "    }\n",
       "\n",
       "    .dataframe tbody tr th {\n",
       "        vertical-align: top;\n",
       "    }\n",
       "\n",
       "    .dataframe thead th {\n",
       "        text-align: right;\n",
       "    }\n",
       "</style>\n",
       "<table border=\"1\" class=\"dataframe\">\n",
       "  <thead>\n",
       "    <tr style=\"text-align: right;\">\n",
       "      <th></th>\n",
       "      <th>ID</th>\n",
       "      <th>age</th>\n",
       "      <th>sex</th>\n",
       "      <th>chest</th>\n",
       "      <th>resting_blood_pressure</th>\n",
       "      <th>serum_cholestoral</th>\n",
       "      <th>fasting_blood_sugar</th>\n",
       "      <th>resting_electrocardiographic_results</th>\n",
       "      <th>maximum_heart_rate_achieved</th>\n",
       "      <th>exercise_induced_angina</th>\n",
       "      <th>oldpeak</th>\n",
       "      <th>slope</th>\n",
       "      <th>number_of_major_vessels</th>\n",
       "      <th>thal</th>\n",
       "      <th>class</th>\n",
       "    </tr>\n",
       "  </thead>\n",
       "  <tbody>\n",
       "    <tr>\n",
       "      <th>0</th>\n",
       "      <td>0</td>\n",
       "      <td>49.207124</td>\n",
       "      <td>0</td>\n",
       "      <td>4.000000</td>\n",
       "      <td>162.996167</td>\n",
       "      <td>181.108682</td>\n",
       "      <td>0</td>\n",
       "      <td>0</td>\n",
       "      <td>148.227858</td>\n",
       "      <td>1</td>\n",
       "      <td>0.944547</td>\n",
       "      <td>2</td>\n",
       "      <td>0</td>\n",
       "      <td>3</td>\n",
       "      <td>1</td>\n",
       "    </tr>\n",
       "    <tr>\n",
       "      <th>1</th>\n",
       "      <td>1</td>\n",
       "      <td>53.628425</td>\n",
       "      <td>1</td>\n",
       "      <td>1.741596</td>\n",
       "      <td>130.233730</td>\n",
       "      <td>276.474630</td>\n",
       "      <td>0</td>\n",
       "      <td>2</td>\n",
       "      <td>152.917139</td>\n",
       "      <td>0</td>\n",
       "      <td>0.119070</td>\n",
       "      <td>2</td>\n",
       "      <td>0</td>\n",
       "      <td>3</td>\n",
       "      <td>0</td>\n",
       "    </tr>\n",
       "    <tr>\n",
       "      <th>2</th>\n",
       "      <td>2</td>\n",
       "      <td>49.591426</td>\n",
       "      <td>1</td>\n",
       "      <td>4.000000</td>\n",
       "      <td>146.999012</td>\n",
       "      <td>223.300517</td>\n",
       "      <td>1</td>\n",
       "      <td>2</td>\n",
       "      <td>102.352090</td>\n",
       "      <td>1</td>\n",
       "      <td>1.616747</td>\n",
       "      <td>2</td>\n",
       "      <td>2</td>\n",
       "      <td>7</td>\n",
       "      <td>1</td>\n",
       "    </tr>\n",
       "    <tr>\n",
       "      <th>3</th>\n",
       "      <td>3</td>\n",
       "      <td>58.991445</td>\n",
       "      <td>1</td>\n",
       "      <td>4.000000</td>\n",
       "      <td>112.369143</td>\n",
       "      <td>187.245501</td>\n",
       "      <td>0</td>\n",
       "      <td>0</td>\n",
       "      <td>158.164750</td>\n",
       "      <td>1</td>\n",
       "      <td>0.000000</td>\n",
       "      <td>1</td>\n",
       "      <td>1</td>\n",
       "      <td>7</td>\n",
       "      <td>1</td>\n",
       "    </tr>\n",
       "    <tr>\n",
       "      <th>4</th>\n",
       "      <td>4</td>\n",
       "      <td>51.053602</td>\n",
       "      <td>1</td>\n",
       "      <td>1.954609</td>\n",
       "      <td>138.032047</td>\n",
       "      <td>238.482868</td>\n",
       "      <td>0</td>\n",
       "      <td>0</td>\n",
       "      <td>172.540828</td>\n",
       "      <td>0</td>\n",
       "      <td>1.150464</td>\n",
       "      <td>1</td>\n",
       "      <td>1</td>\n",
       "      <td>3</td>\n",
       "      <td>0</td>\n",
       "    </tr>\n",
       "  </tbody>\n",
       "</table>\n",
       "</div>"
      ],
      "text/plain": [
       "   ID        age  sex     chest  resting_blood_pressure  serum_cholestoral  \\\n",
       "0   0  49.207124    0  4.000000              162.996167         181.108682   \n",
       "1   1  53.628425    1  1.741596              130.233730         276.474630   \n",
       "2   2  49.591426    1  4.000000              146.999012         223.300517   \n",
       "3   3  58.991445    1  4.000000              112.369143         187.245501   \n",
       "4   4  51.053602    1  1.954609              138.032047         238.482868   \n",
       "\n",
       "   fasting_blood_sugar  resting_electrocardiographic_results  \\\n",
       "0                    0                                     0   \n",
       "1                    0                                     2   \n",
       "2                    1                                     2   \n",
       "3                    0                                     0   \n",
       "4                    0                                     0   \n",
       "\n",
       "   maximum_heart_rate_achieved  exercise_induced_angina   oldpeak  slope  \\\n",
       "0                   148.227858                        1  0.944547      2   \n",
       "1                   152.917139                        0  0.119070      2   \n",
       "2                   102.352090                        1  1.616747      2   \n",
       "3                   158.164750                        1  0.000000      1   \n",
       "4                   172.540828                        0  1.150464      1   \n",
       "\n",
       "   number_of_major_vessels  thal  class  \n",
       "0                        0     3      1  \n",
       "1                        0     3      0  \n",
       "2                        2     7      1  \n",
       "3                        1     7      1  \n",
       "4                        1     3      0  "
      ]
     },
     "metadata": {},
     "output_type": "display_data"
    }
   ],
   "source": [
    "data=pd.read_csv(r\"C:\\Users\\MY PC\\Downloads\\train.csv\")\n",
    "df=data.copy()\n",
    "display(df.head())"
   ]
  },
  {
   "cell_type": "code",
   "execution_count": 8,
   "metadata": {
    "colab": {
     "base_uri": "https://localhost:8080/"
    },
    "id": "evQpBrO6e3Q8",
    "outputId": "321e6bc0-aed1-48ba-fcbc-537332cc53ec",
    "scrolled": true
   },
   "outputs": [
    {
     "name": "stdout",
     "output_type": "stream",
     "text": [
      "<class 'pandas.core.frame.DataFrame'>\n",
      "RangeIndex: 600000 entries, 0 to 599999\n",
      "Data columns (total 15 columns):\n",
      " #   Column                                Non-Null Count   Dtype  \n",
      "---  ------                                --------------   -----  \n",
      " 0   ID                                    600000 non-null  int64  \n",
      " 1   age                                   600000 non-null  float64\n",
      " 2   sex                                   600000 non-null  int64  \n",
      " 3   chest                                 600000 non-null  float64\n",
      " 4   resting_blood_pressure                600000 non-null  float64\n",
      " 5   serum_cholestoral                     600000 non-null  float64\n",
      " 6   fasting_blood_sugar                   600000 non-null  int64  \n",
      " 7   resting_electrocardiographic_results  600000 non-null  int64  \n",
      " 8   maximum_heart_rate_achieved           600000 non-null  float64\n",
      " 9   exercise_induced_angina               600000 non-null  int64  \n",
      " 10  oldpeak                               600000 non-null  float64\n",
      " 11  slope                                 600000 non-null  int64  \n",
      " 12  number_of_major_vessels               600000 non-null  int64  \n",
      " 13  thal                                  600000 non-null  int64  \n",
      " 14  class                                 600000 non-null  int64  \n",
      "dtypes: float64(6), int64(9)\n",
      "memory usage: 68.7 MB\n"
     ]
    }
   ],
   "source": [
    "df.info()"
   ]
  },
  {
   "cell_type": "code",
   "execution_count": 10,
   "metadata": {
    "id": "71hN2UH0a48l"
   },
   "outputs": [],
   "source": [
    "df[\"age\"]=df[\"age\"].astype(int)\n",
    "# df[\"sex\"]=df[\"sex\"].replace([0,1],[\"female\",\"male\"])\n",
    "df[\"sex\"]=df[\"sex\"].astype(object)\n",
    "df[\"fasting_blood_sugar\"]=df[\"fasting_blood_sugar\"].astype(object)\n",
    "df[\"resting_electrocardiographic_results\"]=df[\"resting_electrocardiographic_results\"].astype(object)\n",
    "df[\"exercise_induced_angina\"]=df[\"exercise_induced_angina\"].astype(object)\n",
    "####\n",
    "df[\"slope\"]=df[\"slope\"].astype(object)\n",
    "df[\"number_of_major_vessels\"]=df[\"number_of_major_vessels\"].astype(object)\n",
    "df[\"thal\"]=df[\"thal\"].astype(object)\n",
    "# df[\"class\"]=df[\"class\"].astype(object)"
   ]
  },
  {
   "cell_type": "code",
   "execution_count": 12,
   "metadata": {
    "colab": {
     "base_uri": "https://localhost:8080/"
    },
    "id": "3nUYmT3Ra46I",
    "outputId": "c7790951-c12d-4548-e855-688397a27e63"
   },
   "outputs": [
    {
     "name": "stdout",
     "output_type": "stream",
     "text": [
      " *Features: \n",
      " cat columns:['sex', 'fasting_blood_sugar', 'resting_electrocardiographic_results', 'exercise_induced_angina', 'slope', 'number_of_major_vessels', 'thal'] \n",
      " num columns:['ID', 'age', 'chest', 'resting_blood_pressure', 'serum_cholestoral', 'maximum_heart_rate_achieved', 'oldpeak'] \n",
      " *label:class \n"
     ]
    }
   ],
   "source": [
    "x=df.drop(\"class\",axis=1)\n",
    "y=df[\"class\"]\n",
    "#we will divide the df to cat and num\n",
    "num_x=x.select_dtypes(include=np.number)\n",
    "cat_x=x.select_dtypes(exclude=np.number)\n",
    "cat_columns=list(cat_x.columns)\n",
    "num_columns=list(num_x.columns)\n",
    "print(f' *Features: \\n cat columns:{cat_columns} \\n num columns:{num_columns} \\n *label:{df[\"class\"].name} ' )"
   ]
  },
  {
   "cell_type": "code",
   "execution_count": 14,
   "metadata": {
    "colab": {
     "base_uri": "https://localhost:8080/"
    },
    "id": "LobuDL5fa43d",
    "outputId": "f7bb3b65-8deb-458c-d917-6113ff7ea06a"
   },
   "outputs": [
    {
     "name": "stdout",
     "output_type": "stream",
     "text": [
      "(480000, 19) \n",
      " (120000, 19) \n",
      " (480000,) \n",
      " (120000,)\n"
     ]
    }
   ],
   "source": [
    "#one hot encoding for cat features(we dont one hote encode the cat label)\n",
    "x_encoded=pd.get_dummies(x,drop_first=True)\n",
    "# y_encoded=pd.get_dummies(y,drop_first=True)#NO Need as it is already 0s and 1s\n",
    "#split 1st then scale as the test data is supposed to be unseen\n",
    "x_train,x_test,y_train,y_test=train_test_split(x_encoded,y,test_size=0.2,random_state=42)\n",
    "#scaling for both num,cat\n",
    "scaler=StandardScaler()\n",
    "x_train=scaler.fit_transform(x_train)\n",
    "x_test=scaler.transform(x_test)\n",
    "print(x_train.shape,\"\\n\",x_test.shape,\"\\n\",y_train.shape,\"\\n\",y_test.shape)"
   ]
  },
  {
   "cell_type": "code",
   "execution_count": 16,
   "metadata": {
    "colab": {
     "base_uri": "https://localhost:8080/",
     "height": 226
    },
    "id": "0XiVRzvxpaT3",
    "outputId": "36774a68-b6a3-45a3-a4f2-5afecaa48841",
    "scrolled": true
   },
   "outputs": [
    {
     "data": {
      "text/html": [
       "<div>\n",
       "<style scoped>\n",
       "    .dataframe tbody tr th:only-of-type {\n",
       "        vertical-align: middle;\n",
       "    }\n",
       "\n",
       "    .dataframe tbody tr th {\n",
       "        vertical-align: top;\n",
       "    }\n",
       "\n",
       "    .dataframe thead th {\n",
       "        text-align: right;\n",
       "    }\n",
       "</style>\n",
       "<table border=\"1\" class=\"dataframe\">\n",
       "  <thead>\n",
       "    <tr style=\"text-align: right;\">\n",
       "      <th></th>\n",
       "      <th>ID</th>\n",
       "      <th>age</th>\n",
       "      <th>chest</th>\n",
       "      <th>resting_blood_pressure</th>\n",
       "      <th>serum_cholestoral</th>\n",
       "      <th>maximum_heart_rate_achieved</th>\n",
       "      <th>oldpeak</th>\n",
       "      <th>sex_1</th>\n",
       "      <th>fasting_blood_sugar_1</th>\n",
       "      <th>resting_electrocardiographic_results_1</th>\n",
       "      <th>resting_electrocardiographic_results_2</th>\n",
       "      <th>exercise_induced_angina_1</th>\n",
       "      <th>slope_2</th>\n",
       "      <th>slope_3</th>\n",
       "      <th>number_of_major_vessels_1</th>\n",
       "      <th>number_of_major_vessels_2</th>\n",
       "      <th>number_of_major_vessels_3</th>\n",
       "      <th>thal_6</th>\n",
       "      <th>thal_7</th>\n",
       "    </tr>\n",
       "  </thead>\n",
       "  <tbody>\n",
       "    <tr>\n",
       "      <th>0</th>\n",
       "      <td>1.161896</td>\n",
       "      <td>1.547530</td>\n",
       "      <td>0.872863</td>\n",
       "      <td>0.273464</td>\n",
       "      <td>0.133412</td>\n",
       "      <td>0.485069</td>\n",
       "      <td>-0.020140</td>\n",
       "      <td>-1.449225</td>\n",
       "      <td>-0.421261</td>\n",
       "      <td>-0.105976</td>\n",
       "      <td>0.990421</td>\n",
       "      <td>1.413240</td>\n",
       "      <td>1.126727</td>\n",
       "      <td>-0.290365</td>\n",
       "      <td>-0.523676</td>\n",
       "      <td>-0.374016</td>\n",
       "      <td>-0.28167</td>\n",
       "      <td>-0.247932</td>\n",
       "      <td>-0.791306</td>\n",
       "    </tr>\n",
       "    <tr>\n",
       "      <th>1</th>\n",
       "      <td>-0.086462</td>\n",
       "      <td>0.117314</td>\n",
       "      <td>-0.466014</td>\n",
       "      <td>-0.098509</td>\n",
       "      <td>0.532824</td>\n",
       "      <td>0.723440</td>\n",
       "      <td>-0.159324</td>\n",
       "      <td>0.690024</td>\n",
       "      <td>-0.421261</td>\n",
       "      <td>-0.105976</td>\n",
       "      <td>0.990421</td>\n",
       "      <td>-0.707594</td>\n",
       "      <td>-0.887526</td>\n",
       "      <td>-0.290365</td>\n",
       "      <td>1.909576</td>\n",
       "      <td>-0.374016</td>\n",
       "      <td>-0.28167</td>\n",
       "      <td>-0.247932</td>\n",
       "      <td>-0.791306</td>\n",
       "    </tr>\n",
       "    <tr>\n",
       "      <th>2</th>\n",
       "      <td>-1.457360</td>\n",
       "      <td>0.227330</td>\n",
       "      <td>-0.180164</td>\n",
       "      <td>-0.225160</td>\n",
       "      <td>-1.083474</td>\n",
       "      <td>-2.665392</td>\n",
       "      <td>-0.037471</td>\n",
       "      <td>0.690024</td>\n",
       "      <td>-0.421261</td>\n",
       "      <td>-0.105976</td>\n",
       "      <td>0.990421</td>\n",
       "      <td>-0.707594</td>\n",
       "      <td>-0.887526</td>\n",
       "      <td>-0.290365</td>\n",
       "      <td>-0.523676</td>\n",
       "      <td>-0.374016</td>\n",
       "      <td>-0.28167</td>\n",
       "      <td>-0.247932</td>\n",
       "      <td>-0.791306</td>\n",
       "    </tr>\n",
       "    <tr>\n",
       "      <th>3</th>\n",
       "      <td>1.620005</td>\n",
       "      <td>0.117314</td>\n",
       "      <td>-0.180164</td>\n",
       "      <td>0.356264</td>\n",
       "      <td>-1.186624</td>\n",
       "      <td>0.591455</td>\n",
       "      <td>-0.919103</td>\n",
       "      <td>0.690024</td>\n",
       "      <td>-0.421261</td>\n",
       "      <td>-0.105976</td>\n",
       "      <td>-1.009672</td>\n",
       "      <td>-0.707594</td>\n",
       "      <td>-0.887526</td>\n",
       "      <td>-0.290365</td>\n",
       "      <td>-0.523676</td>\n",
       "      <td>-0.374016</td>\n",
       "      <td>-0.28167</td>\n",
       "      <td>-0.247932</td>\n",
       "      <td>1.263734</td>\n",
       "    </tr>\n",
       "    <tr>\n",
       "      <th>4</th>\n",
       "      <td>1.430322</td>\n",
       "      <td>1.877580</td>\n",
       "      <td>0.872863</td>\n",
       "      <td>2.398420</td>\n",
       "      <td>-1.455748</td>\n",
       "      <td>0.991671</td>\n",
       "      <td>-0.508694</td>\n",
       "      <td>0.690024</td>\n",
       "      <td>-0.421261</td>\n",
       "      <td>-0.105976</td>\n",
       "      <td>0.990421</td>\n",
       "      <td>-0.707594</td>\n",
       "      <td>-0.887526</td>\n",
       "      <td>-0.290365</td>\n",
       "      <td>-0.523676</td>\n",
       "      <td>-0.374016</td>\n",
       "      <td>-0.28167</td>\n",
       "      <td>-0.247932</td>\n",
       "      <td>1.263734</td>\n",
       "    </tr>\n",
       "  </tbody>\n",
       "</table>\n",
       "</div>"
      ],
      "text/plain": [
       "         ID       age     chest  resting_blood_pressure  serum_cholestoral  \\\n",
       "0  1.161896  1.547530  0.872863                0.273464           0.133412   \n",
       "1 -0.086462  0.117314 -0.466014               -0.098509           0.532824   \n",
       "2 -1.457360  0.227330 -0.180164               -0.225160          -1.083474   \n",
       "3  1.620005  0.117314 -0.180164                0.356264          -1.186624   \n",
       "4  1.430322  1.877580  0.872863                2.398420          -1.455748   \n",
       "\n",
       "   maximum_heart_rate_achieved   oldpeak     sex_1  fasting_blood_sugar_1  \\\n",
       "0                     0.485069 -0.020140 -1.449225              -0.421261   \n",
       "1                     0.723440 -0.159324  0.690024              -0.421261   \n",
       "2                    -2.665392 -0.037471  0.690024              -0.421261   \n",
       "3                     0.591455 -0.919103  0.690024              -0.421261   \n",
       "4                     0.991671 -0.508694  0.690024              -0.421261   \n",
       "\n",
       "   resting_electrocardiographic_results_1  \\\n",
       "0                               -0.105976   \n",
       "1                               -0.105976   \n",
       "2                               -0.105976   \n",
       "3                               -0.105976   \n",
       "4                               -0.105976   \n",
       "\n",
       "   resting_electrocardiographic_results_2  exercise_induced_angina_1  \\\n",
       "0                                0.990421                   1.413240   \n",
       "1                                0.990421                  -0.707594   \n",
       "2                                0.990421                  -0.707594   \n",
       "3                               -1.009672                  -0.707594   \n",
       "4                                0.990421                  -0.707594   \n",
       "\n",
       "    slope_2   slope_3  number_of_major_vessels_1  number_of_major_vessels_2  \\\n",
       "0  1.126727 -0.290365                  -0.523676                  -0.374016   \n",
       "1 -0.887526 -0.290365                   1.909576                  -0.374016   \n",
       "2 -0.887526 -0.290365                  -0.523676                  -0.374016   \n",
       "3 -0.887526 -0.290365                  -0.523676                  -0.374016   \n",
       "4 -0.887526 -0.290365                  -0.523676                  -0.374016   \n",
       "\n",
       "   number_of_major_vessels_3    thal_6    thal_7  \n",
       "0                   -0.28167 -0.247932 -0.791306  \n",
       "1                   -0.28167 -0.247932 -0.791306  \n",
       "2                   -0.28167 -0.247932 -0.791306  \n",
       "3                   -0.28167 -0.247932  1.263734  \n",
       "4                   -0.28167 -0.247932  1.263734  "
      ]
     },
     "execution_count": 16,
     "metadata": {},
     "output_type": "execute_result"
    }
   ],
   "source": [
    "pd.DataFrame(x_train,columns=x_encoded.columns).head()"
   ]
  },
  {
   "cell_type": "code",
   "execution_count": null,
   "metadata": {},
   "outputs": [],
   "source": []
  },
  {
   "cell_type": "code",
   "execution_count": 18,
   "metadata": {
    "id": "ZSXrwEhNpBxO"
   },
   "outputs": [],
   "source": [
    "from sklearn.decomposition import PCA\n",
    "pca_19d=PCA(n_components=19)\n",
    "pcs_train=pca_19d.fit_transform(x_train)\n",
    "pcs_test=pca_19d.transform(x_test)"
   ]
  },
  {
   "cell_type": "code",
   "execution_count": 20,
   "metadata": {
    "colab": {
     "base_uri": "https://localhost:8080/"
    },
    "id": "L2vCaK19LBEU",
    "outputId": "5e451780-96ab-4fc4-fb86-df7163a9bed1"
   },
   "outputs": [
    {
     "data": {
      "text/plain": [
       "(480000, 19)"
      ]
     },
     "execution_count": 20,
     "metadata": {},
     "output_type": "execute_result"
    }
   ],
   "source": [
    "pcs_train.shape"
   ]
  },
  {
   "cell_type": "code",
   "execution_count": 22,
   "metadata": {
    "colab": {
     "base_uri": "https://localhost:8080/"
    },
    "id": "tEhvwQ7lqjZc",
    "outputId": "3f860ef9-63b9-4f01-c116-530b6bdd288a"
   },
   "outputs": [
    {
     "data": {
      "text/plain": [
       "array([0.12296487, 0.18860182, 0.25188299, 0.31148953, 0.37042447,\n",
       "       0.42830427, 0.48584558, 0.54156769, 0.59513001, 0.64780834,\n",
       "       0.70037853, 0.75243926, 0.80426088, 0.85044147, 0.88660805,\n",
       "       0.92075261, 0.95205461, 0.97891216, 1.        ])"
      ]
     },
     "execution_count": 22,
     "metadata": {},
     "output_type": "execute_result"
    }
   ],
   "source": [
    "cum_sum=np.cumsum(pca_19d.explained_variance_ratio_)\n",
    "cum_sum"
   ]
  },
  {
   "cell_type": "code",
   "execution_count": 24,
   "metadata": {
    "colab": {
     "base_uri": "https://localhost:8080/",
     "height": 449
    },
    "id": "_Ql3UUKAq1ao",
    "outputId": "3e6ecbc8-c97f-4e26-c707-eb330b1118d3"
   },
   "outputs": [
    {
     "data": {
      "image/png": "[encoded data removed]",
      "text/plain": [
       "<Figure size 640x480 with 1 Axes>"
      ]
     },
     "metadata": {},
     "output_type": "display_data"
    }
   ],
   "source": [
    "plt.plot(1,range(len(cum_sum)+1),cum_sum)\n",
    "plt.xticks(range(len(cum_sum)+1))\n",
    "plt.xlabel(\"number of components\")\n",
    "plt.ylabel(\"cumulative explained variance\")\n",
    "plt.show()"
   ]
  },
  {
   "cell_type": "code",
   "execution_count": 26,
   "metadata": {
    "id": "bvX50CZzyv0g"
   },
   "outputs": [],
   "source": [
    "#new x after pca\n",
    "x_train_19d=pd.DataFrame(pcs_train).iloc[:,0:13]\n",
    "x_test_19d=pd.DataFrame(pcs_test).iloc[:,0:13]"
   ]
  },
  {
   "cell_type": "code",
   "execution_count": 28,
   "metadata": {
    "id": "uSYjHq1wNO2l"
   },
   "outputs": [],
   "source": [
    "def cv_score(model,x_train):\n",
    "  \"\"\"\n",
    "  specify the name of x_train in the 2nd arg.\n",
    "  \"\"\"  \n",
    "  strat_kfold=StratifiedKFold(n_splits=5,shuffle=True,random_state=42)\n",
    "  score=cross_val_score(model,x_train,y_train,cv=strat_kfold,scoring=\"accuracy\")\n",
    "  return score.mean()"
   ]
  },
  {
   "cell_type": "code",
   "execution_count": 30,
   "metadata": {},
   "outputs": [
    {
     "name": "stdout",
     "output_type": "stream",
     "text": [
      "Help on function cv_score in module __main__:\n",
      "\n",
      "cv_score(model, x_train)\n",
      "    specify the name of x_train in the 2nd arg.\n",
      "\n"
     ]
    }
   ],
   "source": [
    "help(cv_score)"
   ]
  },
  {
   "cell_type": "code",
   "execution_count": 32,
   "metadata": {
    "id": "NzTESEFXN-en"
   },
   "outputs": [],
   "source": [
    "def acc_score_train(model,x_train):\n",
    "    \"\"\"\n",
    "    specify the name of x_train in the 2nd arg.\n",
    "    \"\"\"\n",
    "    model.fit(x_train,y_train)\n",
    "    y_train_pred=model.predict(x_train)\n",
    "    return accuracy_score(y_train,y_train_pred)\n"
   ]
  },
  {
   "cell_type": "code",
   "execution_count": 34,
   "metadata": {
    "id": "Ao9wLzEC1zAj"
   },
   "outputs": [],
   "source": [
    "def acc_score_test(model,x_train,x_test):\n",
    "    \"\"\"\n",
    "    specify the name of x_train and x_test in the 2nd and 3rd argument\n",
    "    \"\"\"\n",
    "    model.fit(x_train,y_train)\n",
    "    y_test_pred=model.predict(x_test)\n",
    "    return accuracy_score(y_test,y_test_pred)"
   ]
  },
  {
   "cell_type": "code",
   "execution_count": 36,
   "metadata": {
    "colab": {
     "base_uri": "https://localhost:8080/"
    },
    "id": "DZtDg-ACa41L",
    "outputId": "b8a6f822-7c64-4c20-bed2-40077f8ca9ad",
    "scrolled": true
   },
   "outputs": [
    {
     "data": {
      "text/plain": [
       "0.8720166666666667"
      ]
     },
     "execution_count": 36,
     "metadata": {},
     "output_type": "execute_result"
    }
   ],
   "source": [
    "lo=LogisticRegression()\n",
    "acc_score_test(lo,x_train_19d,x_test_19d)"
   ]
  },
  {
   "cell_type": "code",
   "execution_count": 38,
   "metadata": {
    "colab": {
     "base_uri": "https://localhost:8080/"
    },
    "editable": true,
    "id": "nW9vMGxga4yf",
    "outputId": "7af4b5ae-dd6f-410c-9d63-209e1e7884d0",
    "slideshow": {
     "slide_type": ""
    },
    "tags": []
   },
   "outputs": [
    {
     "name": "stdout",
     "output_type": "stream",
     "text": [
      "0.882075\n",
      "137.15048933029175\n"
     ]
    }
   ],
   "source": [
    "# import time\n",
    "# start =time.time()\n",
    "# knn8=KNeighborsClassifier(n_neighbors=9)\n",
    "# knn8.fit(x_train,y_train)\n",
    "# y_test_pred=knn8.predict(x_test)\n",
    "# print(accuracy_score(y_test,y_test_pred))\n",
    "# end=time.time()\n",
    "# print(end-start)\n",
    "# #"
   ]
  },
  {
   "cell_type": "code",
   "execution_count": 38,
   "metadata": {},
   "outputs": [],
   "source": [
    "xgb=XGBClassifier()"
   ]
  },
  {
   "cell_type": "code",
   "execution_count": 40,
   "metadata": {},
   "outputs": [
    {
     "data": {
      "text/plain": [
       "0.9016145833333333"
      ]
     },
     "execution_count": 40,
     "metadata": {},
     "output_type": "execute_result"
    }
   ],
   "source": [
    "cv_score(xgb,x_train)"
   ]
  },
  {
   "cell_type": "code",
   "execution_count": 42,
   "metadata": {},
   "outputs": [
    {
     "data": {
      "text/plain": [
       "0.9089020833333333"
      ]
     },
     "execution_count": 42,
     "metadata": {},
     "output_type": "execute_result"
    }
   ],
   "source": [
    "acc_score_train(xgb,x_train)"
   ]
  },
  {
   "cell_type": "code",
   "execution_count": 44,
   "metadata": {
    "colab": {
     "base_uri": "https://localhost:8080/"
    },
    "id": "olbAyjCBa4vx",
    "outputId": "5661d58c-d15f-44a7-9e8f-b1f809608eba"
   },
   "outputs": [
    {
     "data": {
      "text/plain": [
       "0.89345"
      ]
     },
     "execution_count": 44,
     "metadata": {},
     "output_type": "execute_result"
    }
   ],
   "source": [
    "xgb=XGBClassifier()\n",
    "acc_score_test(xgb,x_train_19d,x_test_19d)"
   ]
  },
  {
   "cell_type": "code",
   "execution_count": 42,
   "metadata": {
    "colab": {
     "base_uri": "https://localhost:8080/"
    },
    "id": "YYR9tcyla4sL",
    "outputId": "4da8c907-f179-4ee9-ee6b-1e6ae9510776"
   },
   "outputs": [
    {
     "data": {
      "text/plain": [
       "0.8398729166666665"
      ]
     },
     "execution_count": 42,
     "metadata": {},
     "output_type": "execute_result"
    }
   ],
   "source": [
    "# dt_clf=DecisionTreeClassifier()\n",
    "# cv_score(dt_clf,x_train_19d)"
   ]
  },
  {
   "cell_type": "code",
   "execution_count": null,
   "metadata": {
    "colab": {
     "base_uri": "https://localhost:8080/"
    },
    "id": "apkC7C30a4qs",
    "outputId": "8ca95cae-26bb-488b-cb3a-5104609f0ba4"
   },
   "outputs": [
    {
     "name": "stdout",
     "output_type": "stream",
     "text": [
      "0.8404666666666667\n"
     ]
    }
   ],
   "source": [
    "# dt_clf=DecisionTreeClassifier()\n",
    "# acc_score_test(dt_clf,x_train_19d,x_test_19d)"
   ]
  },
  {
   "cell_type": "code",
   "execution_count": null,
   "metadata": {
    "id": "_03jTZqsa4n3"
   },
   "outputs": [],
   "source": [
    "# from sklearn.ensemble import StackingClassifier\n",
    "# def stack_model():\n",
    "#     model0=[]\n",
    "#     model0.append((\"lo\",LogisticRegression()))\n",
    "#     model0.append((\"knn9\",KNeighborsClassifier(n_neighbors=9)))\n",
    "#     model0.append((\"xgb\",XGBClassifier()))\n",
    "#     model0.append((\"dt\",DecisionTreeClassifier()))\n",
    "#     model1=LogisticRegression()\n",
    "#     stack=StackingClassifier(estimators=model0,final_estimator=model1,cv=3)\n",
    "#     return stack"
   ]
  },
  {
   "cell_type": "code",
   "execution_count": null,
   "metadata": {},
   "outputs": [],
   "source": []
  },
  {
   "cell_type": "code",
   "execution_count": null,
   "metadata": {
    "id": "z4zCfWFR2b3E"
   },
   "outputs": [],
   "source": [
    "# model=stack_model()\n",
    "# acc_score_test(model,x_train,x_test)"
   ]
  },
  {
   "cell_type": "code",
   "execution_count": null,
   "metadata": {
    "id": "XKvXZLfia4kj"
   },
   "outputs": [],
   "source": [
    "# def models():\n",
    "#     models=[]\n",
    "#     models.append((\"lo\",LogisticRegression()))\n",
    "#     models.append((\"knn8\",KNeighborsClassifier(n_neighbors=8)))\n",
    "#     models.append((\"xgb\",XGBClassifier()))\n",
    "#     models.append((\"dt\",DecisionTreeClassifier()))\n",
    "#     models.append((\"stack\",stack_model()))\n",
    "#     return models"
   ]
  },
  {
   "cell_type": "code",
   "execution_count": null,
   "metadata": {
    "colab": {
     "base_uri": "https://localhost:8080/"
    },
    "collapsed": true,
    "id": "DhcpARSbmhuC",
    "jupyter": {
     "outputs_hidden": true
    },
    "outputId": "436ebb8c-5df9-4c22-bfa1-26f95993896a"
   },
   "outputs": [
    {
     "data": {
      "text/plain": [
       "[('lo', LogisticRegression()),\n",
       " ('knn8', KNeighborsClassifier(n_neighbors=8)),\n",
       " ('xgb',\n",
       "  XGBClassifier(base_score=None, booster=None, callbacks=None,\n",
       "                colsample_bylevel=None, colsample_bynode=None,\n",
       "                colsample_bytree=None, device=None, early_stopping_rounds=None,\n",
       "                enable_categorical=False, eval_metric=None, feature_types=None,\n",
       "                gamma=None, grow_policy=None, importance_type=None,\n",
       "                interaction_constraints=None, learning_rate=None, max_bin=None,\n",
       "                max_cat_threshold=None, max_cat_to_onehot=None,\n",
       "                max_delta_step=None, max_depth=None, max_leaves=None,\n",
       "                min_child_weight=None, missing=nan, monotone_constraints=None,\n",
       "                multi_strategy=None, n_estimators=None, n_jobs=None,\n",
       "                num_parallel_tree=None, random_state=None, ...)),\n",
       " ('dt', DecisionTreeClassifier()),\n",
       " ('stack',\n",
       "  StackingClassifier(cv=10,\n",
       "                     estimators=[('lo', LogisticRegression()),\n",
       "                                 ('knn8', KNeighborsClassifier(n_neighbors=8)),\n",
       "                                 ('xgb',\n",
       "                                  XGBClassifier(base_score=None, booster=None,\n",
       "                                                callbacks=None,\n",
       "                                                colsample_bylevel=None,\n",
       "                                                colsample_bynode=None,\n",
       "                                                colsample_bytree=None,\n",
       "                                                device=None,\n",
       "                                                early_stopping_rounds=None,\n",
       "                                                enable_categorical=False,\n",
       "                                                eval_metric=None,\n",
       "                                                feature_types=None, gamma=No...\n",
       "                                                learning_rate=None, max_bin=None,\n",
       "                                                max_cat_threshold=None,\n",
       "                                                max_cat_to_onehot=None,\n",
       "                                                max_delta_step=None,\n",
       "                                                max_depth=None, max_leaves=None,\n",
       "                                                min_child_weight=None,\n",
       "                                                missing=nan,\n",
       "                                                monotone_constraints=None,\n",
       "                                                multi_strategy=None,\n",
       "                                                n_estimators=None, n_jobs=None,\n",
       "                                                num_parallel_tree=None,\n",
       "                                                random_state=None, ...)),\n",
       "                                 ('dt', DecisionTreeClassifier())],\n",
       "                     final_estimator=LogisticRegression()))]"
      ]
     },
     "execution_count": 55,
     "metadata": {},
     "output_type": "execute_result"
    }
   ],
   "source": [
    "# models()"
   ]
  },
  {
   "cell_type": "code",
   "execution_count": null,
   "metadata": {
    "colab": {
     "base_uri": "https://localhost:8080/"
    },
    "collapsed": true,
    "id": "whdJC5Xxa4hP",
    "jupyter": {
     "outputs_hidden": true
    },
    "outputId": "8a32c820-cf46-4441-b69f-47d9c86ea6e9"
   },
   "outputs": [
    {
     "name": "stdout",
     "output_type": "stream",
     "text": [
      "LogisticRegression():\n",
      " mean acc cv:0.8732625 \n",
      " acc test:0.8720166666666667\n",
      "KNeighborsClassifier(n_neighbors=8):\n",
      " mean acc cv:0.88103125 \n",
      " acc test:0.8808833333333334\n",
      "XGBClassifier(base_score=None, booster=None, callbacks=None,\n",
      "              colsample_bylevel=None, colsample_bynode=None,\n",
      "              colsample_bytree=None, device=None, early_stopping_rounds=None,\n",
      "              enable_categorical=False, eval_metric=None, feature_types=None,\n",
      "              gamma=None, grow_policy=None, importance_type=None,\n",
      "              interaction_constraints=None, learning_rate=None, max_bin=None,\n",
      "              max_cat_threshold=None, max_cat_to_onehot=None,\n",
      "              max_delta_step=None, max_depth=None, max_leaves=None,\n",
      "              min_child_weight=None, missing=nan, monotone_constraints=None,\n",
      "              multi_strategy=None, n_estimators=None, n_jobs=None,\n",
      "              num_parallel_tree=None, random_state=None, ...):\n",
      " mean acc cv:0.8943229166666666 \n",
      " acc test:0.8936833333333334\n",
      "DecisionTreeClassifier():\n",
      " mean acc cv:0.8390041666666667 \n",
      " acc test:0.8403\n"
     ]
    }
   ],
   "source": [
    "names,results_cv,results_test=[],[],[]\n",
    "for name,model in models():\n",
    "   mean_scores=cv_score(model,x_train_19d)#manual function\n",
    "   score_test=acc_score_test(model,x_train_19d,x_test_19d)#manual function\n",
    "   names.append(name)\n",
    "   results_cv.append(mean_scores)\n",
    "   results_test.append(score_test)\n",
    "   print(f'{model}:\\n mean acc cv:{mean_scores} \\n acc test:{score_test}')"
   ]
  },
  {
   "cell_type": "code",
   "execution_count": null,
   "metadata": {
    "id": "3BIxA1s-a4gP"
   },
   "outputs": [],
   "source": [
    "# #LogisticRegression():\n",
    "#  mean acc cv:0.8732625\n",
    "#  acc test:0.8720166666666667\n",
    "# KNeighborsClassifier(n_neighbors=8):\n",
    "#  mean acc cv:0.88103125\n",
    "#  acc test:0.8808833333333334\n",
    "# XGBClassifier\n",
    "#              \n",
    "#  mean acc cv:0.8943229166666666\n",
    "#  acc test:0.8936833333333334\n",
    "# DecisionTreeClassifier():\n",
    "#  mean acc cv:0.8390041666666667\n",
    "#  acc test:0.8403"
   ]
  },
  {
   "cell_type": "code",
   "execution_count": 34,
   "metadata": {},
   "outputs": [],
   "source": [
    "#the elbow is at col 13 in n_Comp =19"
   ]
  },
  {
   "cell_type": "code",
   "execution_count": 46,
   "metadata": {},
   "outputs": [
    {
     "name": "stdout",
     "output_type": "stream",
     "text": [
      "pca 19d n_cols: 2\n",
      "0.8745583333333333\n",
      "pca 19d n_cols: 3\n",
      "0.8839333333333333\n",
      "pca 19d n_cols: 4\n",
      "0.8895833333333333\n",
      "pca 19d n_cols: 5\n",
      "0.89015\n",
      "pca 19d n_cols: 6\n",
      "0.88995\n",
      "pca 19d n_cols: 7\n",
      "0.8900583333333333\n",
      "pca 19d n_cols: 8\n",
      "0.8910666666666667\n",
      "pca 19d n_cols: 9\n",
      "0.8929333333333334\n",
      "pca 19d n_cols: 10\n",
      "0.8925333333333333\n",
      "pca 19d n_cols: 11\n",
      "0.892325\n",
      "pca 19d n_cols: 12\n",
      "0.8927416666666667\n",
      "pca 19d n_cols: 13\n",
      "0.89345\n",
      "pca 19d n_cols: 14\n",
      "0.893775\n",
      "pca 19d n_cols: 15\n",
      "0.8967083333333333\n",
      "pca 19d n_cols: 16\n",
      "0.8981416666666666\n",
      "pca 19d n_cols: 17\n",
      "0.8982916666666667\n",
      "pca 19d n_cols: 18\n",
      "0.8986416666666667\n",
      "pca 19d n_cols: 19\n",
      "0.8982916666666667\n"
     ]
    }
   ],
   "source": [
    "# this is for n_comp=19,we take diff n columns but the max var is for n comp =19\n",
    "for i in range(2,20):\n",
    "    #new x after pca\n",
    "    x_train_19d_nc=pd.DataFrame(pcs_train).iloc[:,0:i]\n",
    "    x_test_19d_nc=pd.DataFrame(pcs_test).iloc[:,0:i]\n",
    "    print(\"pca 19d n_cols:\",i)\n",
    "    print(acc_score_test(xgb,x_train_19d_nc,x_test_19d_nc))"
   ]
  },
  {
   "cell_type": "code",
   "execution_count": 47,
   "metadata": {
    "id": "pkKZcIWQa4bS"
   },
   "outputs": [],
   "source": [
    "#pca_9 or 13"
   ]
  },
  {
   "cell_type": "code",
   "execution_count": 46,
   "metadata": {
    "id": "Y6tSGM88a4Yf"
   },
   "outputs": [
    {
     "name": "stdout",
     "output_type": "stream",
     "text": [
      "pca 19d n_cols: 5\n",
      "0.89015\n",
      "pca 19d n_cols: 9\n",
      "0.8929333333333334\n",
      "pca 19d n_cols: 12\n",
      "0.8927416666666667\n",
      "pca 19d n_cols: 13\n",
      "0.89345\n"
     ]
    }
   ],
   "source": [
    "# this is for n_comp=19,we take diff n columns but the max var is for n comp =19\n",
    "for i in[5,9,12,13]:\n",
    "    #new x after pca\n",
    "    x_train_19d_nc=pd.DataFrame(pcs_train).iloc[:,0:i]\n",
    "    x_test_19d_nc=pd.DataFrame(pcs_test).iloc[:,0:i]\n",
    "    print(\"pca 19d n_cols:\",i)\n",
    "    print(acc_score_test(xgb,x_train_19d_nc,x_test_19d_nc))\n",
    "    "
   ]
  },
  {
   "cell_type": "code",
   "execution_count": 54,
   "metadata": {
    "id": "CaLM707ga4dd"
   },
   "outputs": [
    {
     "name": "stdout",
     "output_type": "stream",
     "text": [
      "pca: 2 d\n",
      "0.8733333333333333\n",
      "pca: 3 d\n",
      "0.883025\n",
      "pca: 4 d\n",
      "0.8865166666666666\n",
      "pca: 5 d\n",
      "0.8906583333333333\n",
      "pca: 6 d\n",
      "0.8903333333333333\n",
      "pca: 7 d\n",
      "0.89035\n",
      "pca: 8 d\n",
      "0.8908416666666666\n",
      "pca: 9 d\n",
      "0.8929333333333334\n",
      "pca: 10 d\n",
      "0.8925333333333333\n",
      "pca: 11 d\n",
      "0.892325\n",
      "pca: 12 d\n",
      "0.8927416666666667\n",
      "pca: 13 d\n",
      "0.89345\n",
      "pca: 14 d\n",
      "0.893775\n",
      "pca: 15 d\n",
      "0.8967083333333333\n",
      "pca: 16 d\n",
      "0.8981416666666666\n",
      "pca: 17 d\n",
      "0.8982916666666667\n",
      "pca: 18 d\n",
      "0.8986416666666667\n",
      "pca: 19 d\n",
      "0.8982916666666667\n"
     ]
    }
   ],
   "source": [
    "#here we change the n_comp not just take set num of columns from pca_19d(n_components=19)\n",
    "acc_pca_nd=[]\n",
    "for i in range(2,20):\n",
    "    pca_nd=PCA(n_components=i)\n",
    "    pcs_train_new=pca_nd.fit_transform(x_train)\n",
    "    pcs_test_new=pca_nd.transform(x_test)\n",
    "    xgb=XGBClassifier()\n",
    "    x_train_new=pd.DataFrame(pcs_train_new)#we may add .iloc here later\n",
    "    x_test_new=pd.DataFrame(pcs_test_new)#we may add .iloc here later\n",
    "    acc=acc_score_test(xgb,x_train_new,x_test_new)\n",
    "    acc_pca_nd.append(acc)\n",
    "    print(\"pca:\",i,\"d\")\n",
    "    print(acc)"
   ]
  },
  {
   "cell_type": "markdown",
   "metadata": {},
   "source": [
    "`here we have diff pca s w diff comp/dim that in each one of them we can take set n_cols to reduce the complexety and potential overfitting`"
   ]
  },
  {
   "cell_type": "code",
   "execution_count": 52,
   "metadata": {},
   "outputs": [],
   "source": [
    "# judge by explained variance cum_sum or actual results???"
   ]
  },
  {
   "cell_type": "code",
   "execution_count": null,
   "metadata": {},
   "outputs": [],
   "source": [
    "#pca_5d\n",
    "#htn on xgb\n",
    "#try Random_Forest,SVC\n",
    "#and start from lo as baseline"
   ]
  },
  {
   "cell_type": "code",
   "execution_count": null,
   "metadata": {},
   "outputs": [],
   "source": [
    "pca_5d=PCA(n_components=5)\n",
    "pcs_train_5d=pca_5d.fit_transform(x_train)\n",
    "pcs_test_5d=pca_5d.transform(x_test)\n",
    "x_train_5d=pd.DataFrame(pcs_train_5d)#we may add .iloc here later\n",
    "x_test_5d=pd.DataFrame(pcs_test_5d)#we may add .iloc here later"
   ]
  }
 ],
 "metadata": {
  "colab": {
   "provenance": []
  },
  "kernelspec": {
   "display_name": "Python 3 (ipykernel)",
   "language": "python",
   "name": "python3"
  },
  "language_info": {
   "codemirror_mode": {
    "name": "ipython",
    "version": 3
   },
   "file_extension": ".py",
   "mimetype": "text/x-python",
   "name": "python",
   "nbconvert_exporter": "python",
   "pygments_lexer": "ipython3",
   "version": "3.12.3"
  }
 },
 "nbformat": 4,
 "nbformat_minor": 4
}
